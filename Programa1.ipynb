{
  "nbformat": 4,
  "nbformat_minor": 0,
  "metadata": {
    "colab": {
      "provenance": [],
      "authorship_tag": "ABX9TyNqYZCVmnHP3aK2S6Gb3MWC",
      "include_colab_link": true
    },
    "kernelspec": {
      "name": "python3",
      "display_name": "Python 3"
    },
    "language_info": {
      "name": "python"
    }
  },
  "cells": [
    {
      "cell_type": "markdown",
      "metadata": {
        "id": "view-in-github",
        "colab_type": "text"
      },
      "source": [
        "<a href=\"https://colab.research.google.com/github/Jaum-V/Repositorio2/blob/main/Programa1.ipynb\" target=\"_parent\"><img src=\"https://colab.research.google.com/assets/colab-badge.svg\" alt=\"Open In Colab\"/></a>"
      ]
    },
    {
      "cell_type": "code",
      "execution_count": null,
      "metadata": {
        "id": "62qSv4ai69WI",
        "colab": {
          "base_uri": "https://localhost:8080/"
        },
        "outputId": "ad98d0ba-f117-4b6f-c56a-d1472983809f"
      },
      "outputs": [
        {
          "output_type": "stream",
          "name": "stdout",
          "text": [
            "<class 'float'>\n",
            "<class 'float'>\n",
            "<class 'float'>\n",
            "6.0\n"
          ]
        }
      ],
      "source": [
        "#Importancia dos tipos de variaveis\n",
        "a = 2.75\n",
        "print(type(a))\n",
        "b = 3.25\n",
        "print(type(b))\n",
        "soma = a + b\n",
        "print(type(soma))\n",
        "print(soma)"
      ]
    },
    {
      "cell_type": "markdown",
      "source": [
        "Lembrar que sempre que quiser calcular é preciso informar que estou lidando com numero int ou float"
      ],
      "metadata": {
        "id": "j8lupFgnJLgX"
      }
    },
    {
      "cell_type": "code",
      "source": [
        "num = int(input(\"digite valor inteiro: \"))\n",
        "print(type(num))\n",
        "quoc = num//2\n",
        "resto = num % 2\n",
        "print(quoc)\n",
        "print(resto)"
      ],
      "metadata": {
        "colab": {
          "base_uri": "https://localhost:8080/"
        },
        "id": "N6Pd8CN9JQCH",
        "outputId": "84560cb0-18cb-45e0-a102-6d105d165e0f"
      },
      "execution_count": null,
      "outputs": [
        {
          "output_type": "stream",
          "name": "stdout",
          "text": [
            "digite valor inteiro: 9\n",
            "<class 'int'>\n",
            "4\n",
            "1\n"
          ]
        }
      ]
    },
    {
      "cell_type": "code",
      "source": [
        "v1 = float(input(\"Digite o valor 1: \"))\n",
        "v2 = float(input(\"Digite o valor 2: \"))\n",
        "media = (v1 * v2)/2\n",
        "print(media)\n"
      ],
      "metadata": {
        "colab": {
          "base_uri": "https://localhost:8080/"
        },
        "id": "iePn3JrHLRMV",
        "outputId": "9a19a74f-1181-44aa-8396-0746fe5ac6c5"
      },
      "execution_count": null,
      "outputs": [
        {
          "output_type": "stream",
          "name": "stdout",
          "text": [
            "Digite o valor 1: 4\n",
            "Digite o valor 2: 2\n",
            "4.0\n"
          ]
        }
      ]
    },
    {
      "cell_type": "code",
      "source": [
        "b = float(input(\"Digite o valor 1: \"))\n",
        "h = float(input(\"Digite o valor 2: \"))\n",
        "media = (b * h)/2\n",
        "print(media)"
      ],
      "metadata": {
        "colab": {
          "base_uri": "https://localhost:8080/"
        },
        "id": "AWFufBrpMUxA",
        "outputId": "c6ae319a-18d0-4065-e12d-a1523885dddd"
      },
      "execution_count": null,
      "outputs": [
        {
          "output_type": "stream",
          "name": "stdout",
          "text": [
            "Digite o valor 1: 156\n",
            "Digite o valor 2: 23\n",
            "1794.0\n"
          ]
        }
      ]
    },
    {
      "cell_type": "code",
      "source": [
        "p = float(input(\"Digite valor polegada: \"))\n",
        "mm = p * 25.4\n",
        "print(\"Valor pol em mm = \",mm)"
      ],
      "metadata": {
        "colab": {
          "base_uri": "https://localhost:8080/"
        },
        "id": "wJfnjbwj93DQ",
        "outputId": "3b85ed96-dbd7-4900-8877-106b1a72e603"
      },
      "execution_count": null,
      "outputs": [
        {
          "output_type": "stream",
          "name": "stdout",
          "text": [
            "Digite valor polegada: 15\n",
            "Valor pol em mm =  381.0\n"
          ]
        }
      ]
    },
    {
      "cell_type": "markdown",
      "source": [
        "Ex 1"
      ],
      "metadata": {
        "id": "UUe8vCeFBiD7"
      }
    },
    {
      "cell_type": "code",
      "source": [
        "from math import pi\n",
        "r = float(input(\"Digite o valor do raio: \"))\n",
        "v = (((r * 4 * pi) * r**3)/3)\n",
        "print(\"Valor do volume = \",v)"
      ],
      "metadata": {
        "colab": {
          "base_uri": "https://localhost:8080/"
        },
        "id": "SVC18R8Y_hM4",
        "outputId": "f4ae1de9-0390-4e4a-c4ed-19ec9c42b041"
      },
      "execution_count": null,
      "outputs": [
        {
          "output_type": "stream",
          "name": "stdout",
          "text": [
            "Digite o valor do raio: 10\n",
            "Valor do volume =  41887.90204786391\n"
          ]
        }
      ]
    },
    {
      "cell_type": "markdown",
      "source": [
        "Ex 2"
      ],
      "metadata": {
        "id": "Zz1sPzEEBlNs"
      }
    },
    {
      "cell_type": "code",
      "source": [
        "from math import pi\n",
        "g = float(input(\"Digite o valor ângulo: \"))\n",
        "r = (g * (pi)/180)\n",
        "print(\"Valor do radiano =\", r)"
      ],
      "metadata": {
        "colab": {
          "base_uri": "https://localhost:8080/"
        },
        "id": "VEtGH4HSBfzd",
        "outputId": "3261dc8a-c761-46a0-f4ab-22cb63fc9c28"
      },
      "execution_count": null,
      "outputs": [
        {
          "output_type": "stream",
          "name": "stdout",
          "text": [
            "Digite o valor ângulo: 10\n",
            "Valor do radiano = 0.17453292519943295\n"
          ]
        }
      ]
    },
    {
      "cell_type": "markdown",
      "source": [
        "Ex 3"
      ],
      "metadata": {
        "id": "4E3tZ3m3BnYE"
      }
    },
    {
      "cell_type": "code",
      "source": [
        "from math import pi\n",
        "r = float(input(\"Digite o valor ângulo em radianos: \"))\n",
        "g = r * (180 / pi)\n",
        "print(\"Valor do radiano =\", g)\n"
      ],
      "metadata": {
        "colab": {
          "base_uri": "https://localhost:8080/"
        },
        "outputId": "e3ca8add-9cb1-4483-d119-316b334d56f5",
        "id": "2NM2ZclMCliP"
      },
      "execution_count": null,
      "outputs": [
        {
          "output_type": "stream",
          "name": "stdout",
          "text": [
            "Digite o valor ângulo em radianos: 10\n",
            "Valor do radiano = 572.9577951308232\n"
          ]
        }
      ]
    },
    {
      "cell_type": "markdown",
      "source": [
        "Ex 4"
      ],
      "metadata": {
        "id": "2fHgfXqEBpus"
      }
    },
    {
      "cell_type": "code",
      "source": [
        "r = float(input(\"Digite o ângulo em radianos: \"))\n",
        "g = r * (400 / 27)\n",
        "print(\"Valor em grados = \", g)"
      ],
      "metadata": {
        "colab": {
          "base_uri": "https://localhost:8080/"
        },
        "id": "A3pPOOkYFXlt",
        "outputId": "4ae62855-079d-4ae6-c637-72e9b5ce92a6"
      },
      "execution_count": null,
      "outputs": [
        {
          "output_type": "stream",
          "name": "stdout",
          "text": [
            "Digite o ângulo em radianos: 10\n",
            "Valor em grados =  148.14814814814815\n"
          ]
        }
      ]
    },
    {
      "cell_type": "markdown",
      "source": [
        "ímpar ou par (Exemplo 3)"
      ],
      "metadata": {
        "id": "U_QY4B-iHppT"
      }
    },
    {
      "cell_type": "code",
      "source": [
        "from math import pi\n",
        "numero = int(input(\"Digite um numero inteiro: \"))\n",
        "if numero % 2 ==0:\n",
        "  print(f\"O numero {numero} é par.\")\n",
        "else:\n",
        "  print(f\"O numero {numero} é impar.\")"
      ],
      "metadata": {
        "colab": {
          "base_uri": "https://localhost:8080/"
        },
        "id": "-LyWotxgBql8",
        "outputId": "fb84bdcd-604e-41e4-bb23-c2d3925d0607"
      },
      "execution_count": 2,
      "outputs": [
        {
          "output_type": "stream",
          "name": "stdout",
          "text": [
            "Digite um numero inteiro: 11\n",
            "O numero 11 é impar.\n"
          ]
        }
      ]
    },
    {
      "cell_type": "markdown",
      "source": [
        "Raiz quadrada (Exemplo 4)"
      ],
      "metadata": {
        "id": "vcczJxznN25S"
      }
    },
    {
      "cell_type": "code",
      "source": [
        "import math\n",
        "numero = float(input(\"Digite um numero: \"))\n",
        "if numero >= 0:\n",
        "  raiz_quadrada = math.sqrt(numero)\n",
        "  print (f\"A raiz quadrada de {numero} é {raiz_quadrada: .2f}.\")\n",
        "else:\n",
        "  print(\"Não exise raiz real para esse numero!\")"
      ],
      "metadata": {
        "colab": {
          "base_uri": "https://localhost:8080/"
        },
        "id": "CCIFFHimNIKO",
        "outputId": "8e2e2956-187b-4b08-b373-0cf2fc18c430"
      },
      "execution_count": 6,
      "outputs": [
        {
          "output_type": "stream",
          "name": "stdout",
          "text": [
            "Digite um numero: 4\n",
            "A raiz quadrada de 4.0 é  2.00.\n"
          ]
        }
      ]
    }
  ]
}
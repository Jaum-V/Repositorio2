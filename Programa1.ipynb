{
  "nbformat": 4,
  "nbformat_minor": 0,
  "metadata": {
    "colab": {
      "provenance": [],
      "authorship_tag": "ABX9TyNy5UlrOh3WdvuJuhOmaYz9",
      "include_colab_link": true
    },
    "kernelspec": {
      "name": "python3",
      "display_name": "Python 3"
    },
    "language_info": {
      "name": "python"
    }
  },
  "cells": [
    {
      "cell_type": "markdown",
      "metadata": {
        "id": "view-in-github",
        "colab_type": "text"
      },
      "source": [
        "<a href=\"https://colab.research.google.com/github/Jaum-V/Repositorio2/blob/main/Programa1.ipynb\" target=\"_parent\"><img src=\"https://colab.research.google.com/assets/colab-badge.svg\" alt=\"Open In Colab\"/></a>"
      ]
    },
    {
      "cell_type": "code",
      "execution_count": 9,
      "metadata": {
        "id": "62qSv4ai69WI",
        "colab": {
          "base_uri": "https://localhost:8080/"
        },
        "outputId": "ad98d0ba-f117-4b6f-c56a-d1472983809f"
      },
      "outputs": [
        {
          "output_type": "stream",
          "name": "stdout",
          "text": [
            "<class 'float'>\n",
            "<class 'float'>\n",
            "<class 'float'>\n",
            "6.0\n"
          ]
        }
      ],
      "source": [
        "#Importancia dos tipos de variaveis\n",
        "a = 2.75\n",
        "print(type(a))\n",
        "b = 3.25\n",
        "print(type(b))\n",
        "soma = a + b\n",
        "print(type(soma))\n",
        "print(soma)"
      ]
    },
    {
      "cell_type": "markdown",
      "source": [],
      "metadata": {
        "id": "da9AKf9G_D_L"
      }
    },
    {
      "cell_type": "markdown",
      "source": [
        "Lembrar que sempre que quiser calcular é preciso informar que estou lidando com numero int ou float"
      ],
      "metadata": {
        "id": "j8lupFgnJLgX"
      }
    },
    {
      "cell_type": "code",
      "source": [
        "num = int(input(\"digite valor inteiro: \"))\n",
        "print(type(num))\n",
        "quoc = num//2\n",
        "resto = num % 2\n",
        "print(quoc)\n",
        "print(resto)"
      ],
      "metadata": {
        "colab": {
          "base_uri": "https://localhost:8080/"
        },
        "id": "N6Pd8CN9JQCH",
        "outputId": "84560cb0-18cb-45e0-a102-6d105d165e0f"
      },
      "execution_count": 15,
      "outputs": [
        {
          "output_type": "stream",
          "name": "stdout",
          "text": [
            "digite valor inteiro: 9\n",
            "<class 'int'>\n",
            "4\n",
            "1\n"
          ]
        }
      ]
    }
  ]
}
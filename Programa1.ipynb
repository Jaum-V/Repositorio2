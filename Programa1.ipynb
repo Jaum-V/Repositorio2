{
  "nbformat": 4,
  "nbformat_minor": 0,
  "metadata": {
    "colab": {
      "provenance": [],
      "authorship_tag": "ABX9TyObiINTHBOsqyXNEnLM4+ti",
      "include_colab_link": true
    },
    "kernelspec": {
      "name": "python3",
      "display_name": "Python 3"
    },
    "language_info": {
      "name": "python"
    }
  },
  "cells": [
    {
      "cell_type": "markdown",
      "metadata": {
        "id": "view-in-github",
        "colab_type": "text"
      },
      "source": [
        "<a href=\"https://colab.research.google.com/github/Jaum-V/Repositorio2/blob/main/Programa1.ipynb\" target=\"_parent\"><img src=\"https://colab.research.google.com/assets/colab-badge.svg\" alt=\"Open In Colab\"/></a>"
      ]
    },
    {
      "cell_type": "code",
      "execution_count": null,
      "metadata": {
        "id": "62qSv4ai69WI",
        "colab": {
          "base_uri": "https://localhost:8080/"
        },
        "outputId": "ad98d0ba-f117-4b6f-c56a-d1472983809f"
      },
      "outputs": [
        {
          "output_type": "stream",
          "name": "stdout",
          "text": [
            "<class 'float'>\n",
            "<class 'float'>\n",
            "<class 'float'>\n",
            "6.0\n"
          ]
        }
      ],
      "source": [
        "#Importancia dos tipos de variaveis\n",
        "a = 2.75\n",
        "print(type(a))\n",
        "b = 3.25\n",
        "print(type(b))\n",
        "soma = a + b\n",
        "print(type(soma))\n",
        "print(soma)"
      ]
    },
    {
      "cell_type": "markdown",
      "source": [
        "Lembrar que sempre que quiser calcular é preciso informar que estou lidando com numero int ou float"
      ],
      "metadata": {
        "id": "j8lupFgnJLgX"
      }
    },
    {
      "cell_type": "code",
      "source": [
        "num = int(input(\"digite valor inteiro: \"))\n",
        "print(type(num))\n",
        "quoc = num//2\n",
        "resto = num % 2\n",
        "print(quoc)\n",
        "print(resto)"
      ],
      "metadata": {
        "colab": {
          "base_uri": "https://localhost:8080/"
        },
        "id": "N6Pd8CN9JQCH",
        "outputId": "84560cb0-18cb-45e0-a102-6d105d165e0f"
      },
      "execution_count": null,
      "outputs": [
        {
          "output_type": "stream",
          "name": "stdout",
          "text": [
            "digite valor inteiro: 9\n",
            "<class 'int'>\n",
            "4\n",
            "1\n"
          ]
        }
      ]
    },
    {
      "cell_type": "code",
      "source": [
        "v1 = float(input(\"Digite o valor 1: \"))\n",
        "v2 = float(input(\"Digite o valor 2: \"))\n",
        "media = (v1 * v2)/2\n",
        "print(media)\n"
      ],
      "metadata": {
        "colab": {
          "base_uri": "https://localhost:8080/"
        },
        "id": "iePn3JrHLRMV",
        "outputId": "9a19a74f-1181-44aa-8396-0746fe5ac6c5"
      },
      "execution_count": null,
      "outputs": [
        {
          "output_type": "stream",
          "name": "stdout",
          "text": [
            "Digite o valor 1: 4\n",
            "Digite o valor 2: 2\n",
            "4.0\n"
          ]
        }
      ]
    },
    {
      "cell_type": "code",
      "source": [
        "b = float(input(\"Digite o valor 1: \"))\n",
        "h = float(input(\"Digite o valor 2: \"))\n",
        "media = (b * h)/2\n",
        "print(media)"
      ],
      "metadata": {
        "colab": {
          "base_uri": "https://localhost:8080/"
        },
        "id": "AWFufBrpMUxA",
        "outputId": "c6ae319a-18d0-4065-e12d-a1523885dddd"
      },
      "execution_count": null,
      "outputs": [
        {
          "output_type": "stream",
          "name": "stdout",
          "text": [
            "Digite o valor 1: 156\n",
            "Digite o valor 2: 23\n",
            "1794.0\n"
          ]
        }
      ]
    },
    {
      "cell_type": "code",
      "source": [
        "p = float(input(\"Digite valor polegada: \"))\n",
        "mm = p * 25.4\n",
        "print(\"Valor pol em mm = \",mm)"
      ],
      "metadata": {
        "colab": {
          "base_uri": "https://localhost:8080/"
        },
        "id": "wJfnjbwj93DQ",
        "outputId": "3b85ed96-dbd7-4900-8877-106b1a72e603"
      },
      "execution_count": 4,
      "outputs": [
        {
          "output_type": "stream",
          "name": "stdout",
          "text": [
            "Digite valor polegada: 15\n",
            "Valor pol em mm =  381.0\n"
          ]
        }
      ]
    },
    {
      "cell_type": "code",
      "source": [
        "r = float(input(\"Digite o valor do raio: \"))\n",
        "v = (((r * 4 * 3.14) * r**3)/3)\n",
        "print(\"Valor do volume = \",v)"
      ],
      "metadata": {
        "colab": {
          "base_uri": "https://localhost:8080/"
        },
        "id": "SVC18R8Y_hM4",
        "outputId": "f001948b-c8bb-4d50-c079-73d600882071"
      },
      "execution_count": 25,
      "outputs": [
        {
          "output_type": "stream",
          "name": "stdout",
          "text": [
            "Digite o valor do raio: 10\n",
            "Valor do volume =  41866.66666666667\n"
          ]
        }
      ]
    },
    {
      "cell_type": "code",
      "source": [
        "g = float(input(\"Digite o valor ângulo: \"))\n",
        "r = (g * (3.14)/180)\n",
        "print(\"Valor do radiano =\", r)"
      ],
      "metadata": {
        "colab": {
          "base_uri": "https://localhost:8080/"
        },
        "id": "VEtGH4HSBfzd",
        "outputId": "a68652be-4550-49c9-9bf2-8540a1287ceb"
      },
      "execution_count": 26,
      "outputs": [
        {
          "output_type": "stream",
          "name": "stdout",
          "text": [
            "Digite o valor ângulo: 10\n",
            "Valor do radiano = 0.17444444444444446\n"
          ]
        }
      ]
    },
    {
      "cell_type": "code",
      "source": [
        "r = float(input(\"Digite o valor ângulo em radianos: \"))\n",
        "g = r * (180 / 3.14)\n",
        "print(\"Valor do radiano =\", g)\n"
      ],
      "metadata": {
        "colab": {
          "base_uri": "https://localhost:8080/"
        },
        "outputId": "c2a09489-8d98-44cb-d268-188768c6de1d",
        "id": "2NM2ZclMCliP"
      },
      "execution_count": 27,
      "outputs": [
        {
          "output_type": "stream",
          "name": "stdout",
          "text": [
            "Digite o valor ângulo em radianos: 10\n",
            "Valor do radiano = 573.248407643312\n"
          ]
        }
      ]
    },
    {
      "cell_type": "code",
      "source": [
        "r = float(input(\"Digite o ângulo em radianos: \"))\n",
        "g = r * (400 / 27)\n",
        "print(\"Valor em grados = \", g)"
      ],
      "metadata": {
        "colab": {
          "base_uri": "https://localhost:8080/"
        },
        "id": "A3pPOOkYFXlt",
        "outputId": "4ae62855-079d-4ae6-c637-72e9b5ce92a6"
      },
      "execution_count": 28,
      "outputs": [
        {
          "output_type": "stream",
          "name": "stdout",
          "text": [
            "Digite o ângulo em radianos: 10\n",
            "Valor em grados =  148.14814814814815\n"
          ]
        }
      ]
    }
  ]
}